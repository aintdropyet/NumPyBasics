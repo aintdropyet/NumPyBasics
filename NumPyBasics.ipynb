{
 "cells": [
  {
   "cell_type": "markdown",
   "id": "bb646c59-6257-4cff-b38e-f5f217216b79",
   "metadata": {},
   "source": [
    "# **NumPy Array**"
   ]
  },
  {
   "cell_type": "code",
   "execution_count": 101,
   "id": "0d69d2b8-5760-4711-b5c7-afd6c5b76932",
   "metadata": {},
   "outputs": [
    {
     "data": {
      "text/plain": [
       "array([1, 2, 3])"
      ]
     },
     "execution_count": 101,
     "metadata": {},
     "output_type": "execute_result"
    }
   ],
   "source": [
    "# Creating an array\n",
    "\n",
    "import numpy as np \n",
    "\n",
    "a = np.array([1,2,3])\n",
    "a"
   ]
  },
  {
   "cell_type": "code",
   "execution_count": 102,
   "id": "601f4604-f2dc-4c48-921d-6384bf5e16b2",
   "metadata": {},
   "outputs": [
    {
     "data": {
      "text/plain": [
       "array([ 6, 14, 24, 36, 50])"
      ]
     },
     "execution_count": 102,
     "metadata": {},
     "output_type": "execute_result"
    }
   ],
   "source": [
    "# Multiplication of two arrays\n",
    "\n",
    "import numpy as np \n",
    "a = np.array([1,2,3,4,5])\n",
    "b = np.array([6,7,8,9,10])\n",
    "\n",
    "a*b"
   ]
  },
  {
   "cell_type": "code",
   "execution_count": 103,
   "id": "6f2bb5f8-db7e-457b-a8e4-7c94a4dc1c5c",
   "metadata": {},
   "outputs": [
    {
     "data": {
      "text/plain": [
       "array([[3, 3, 2],\n",
       "       [9, 3, 8],\n",
       "       [6, 2, 1]])"
      ]
     },
     "execution_count": 103,
     "metadata": {},
     "output_type": "execute_result"
    }
   ],
   "source": [
    "# It creates an array with 10 elements and fills all elements with the value zero.\n",
    "np.zeros(10)\n",
    "\n",
    "# It creates a 3x5 array and fills all elements with the value one.\n",
    "np.ones((3,5))\n",
    "\n",
    "# It creates a 3x5 array and fills all elements with the value 3.\n",
    "np.full((3,5),3)\n",
    "\n",
    "# It creates an array with numbers from 0 to 30 (inclusive), with a step of 3 between consecutive elements.\n",
    "np.arange(0,31, 3)\n",
    "\n",
    "# It creates an array of 10 evenly spaced numbers from 0 to 1 (inclusive).\n",
    "np.linspace(0,1, 10)\n",
    "\n",
    "# It creates a 3x4 array with random numbers sampled from a normal distribution with a mean of 10 and a standard deviation of 4.\n",
    "np.random.normal(10,4, (3,4))\n",
    "\n",
    "# It creates a 3x3 array with random integers ranging from 0 to 9 (inclusive).\n",
    "np.random.randint(0,10, (3,3))"
   ]
  },
  {
   "cell_type": "markdown",
   "id": "f9504f0a-2ba6-4bfa-a8f6-5e28c301f4e6",
   "metadata": {},
   "source": [
    "# **Properties of a NumPy Array**"
   ]
  },
  {
   "cell_type": "markdown",
   "id": "77b30b8a-0523-435c-b54e-292764afb11c",
   "metadata": {},
   "source": [
    "* **ndim**  : ndim attribute in numpy returns the number of dimensions (axes) of an array.\n",
    "* **shape** : shape attribute in numpy returns the dimensions (size) of an array as a tuple.\n",
    "* **size**  : size attribute in numpy returns the total number of elements in an array.\n",
    "* **dtype** : dtype attribute in numpy returns the data type of the elements in an array."
   ]
  },
  {
   "cell_type": "code",
   "execution_count": 110,
   "id": "ff854934-a3a4-48ce-bee7-f623af9123d0",
   "metadata": {},
   "outputs": [
    {
     "data": {
      "text/plain": [
       "dtype('int32')"
      ]
     },
     "execution_count": 110,
     "metadata": {},
     "output_type": "execute_result"
    }
   ],
   "source": [
    "# One Dimensional Array\n",
    "# We create a numpy array with 10 elements and fill it with random integers ranging from 0 to 9.\n",
    "# Afterward, we perform operations on this array's properties.\n",
    "\n",
    "import numpy as np \n",
    "a = np.random.randint(10, size=10)\n",
    "\n",
    "#ndim\n",
    "a.ndim\n",
    "\n",
    "#shape\n",
    "a.shape\n",
    "\n",
    "#size\n",
    "a.size\n",
    "\n",
    "#dtype\n",
    "a.dtype"
   ]
  },
  {
   "cell_type": "code",
   "execution_count": 105,
   "id": "2acb2569-2956-4f9f-9052-26b9fe5ad2d7",
   "metadata": {},
   "outputs": [
    {
     "data": {
      "text/plain": [
       "dtype('int32')"
      ]
     },
     "execution_count": 105,
     "metadata": {},
     "output_type": "execute_result"
    }
   ],
   "source": [
    "# Two Dimensional Array\n",
    "# It creates a 3x5 array with random integers ranging from 0 to 9 (inclusive).\n",
    "# Afterward, we perform operations on this array's properties.\n",
    "\n",
    "import numpy as np\n",
    "b = np.random.randint(10, size=(3,5))\n",
    "\n",
    "#ndim\n",
    "b.ndim\n",
    "\n",
    "#shape\n",
    "b.shape\n",
    "\n",
    "#size\n",
    "b.size\n",
    "\n",
    "#dtype\n",
    "b.dtype"
   ]
  },
  {
   "cell_type": "markdown",
   "id": "a71aad4b-0b39-432c-875f-2b0b881f22a8",
   "metadata": {},
   "source": [
    "### **Reshaping**\n",
    "* \"**Reshaping**\" in numpy refers to changing the shape of an array without altering its data."
   ]
  },
  {
   "cell_type": "code",
   "execution_count": 106,
   "id": "6a3063cc-078d-489a-8752-6e432bf17c43",
   "metadata": {},
   "outputs": [
    {
     "data": {
      "text/plain": [
       "array([[1, 2, 3],\n",
       "       [4, 5, 6],\n",
       "       [7, 8, 9]])"
      ]
     },
     "execution_count": 106,
     "metadata": {},
     "output_type": "execute_result"
    }
   ],
   "source": [
    "# This code creates a 1-dimensional array containing numbers from 1 to 9,\n",
    "# and then reshapes it into a 3x3 two-dimensional array.\n",
    "\n",
    "import numpy as np\n",
    "np.arange(1,10).reshape((3,3))"
   ]
  },
  {
   "cell_type": "markdown",
   "id": "8b5376bf-9ed1-4246-b043-0f077d6ee423",
   "metadata": {},
   "source": [
    "### **Concatenate**\n",
    "\n",
    "* Numpy \"**Concatenate**\" means combining or joining two or more arrays along a specified axis."
   ]
  },
  {
   "cell_type": "code",
   "execution_count": 107,
   "id": "3cbdb050-d567-4c33-8a4f-945cdd045bfc",
   "metadata": {},
   "outputs": [
    {
     "data": {
      "text/plain": [
       "array([1, 2, 3, 4, 5, 6, 7, 8, 9])"
      ]
     },
     "execution_count": 107,
     "metadata": {},
     "output_type": "execute_result"
    }
   ],
   "source": [
    "# In the given code, three numpy arrays x, y, and z are created,\n",
    "# and then they are concatenated into a single array using np.concatenate([x, y, z])\n",
    "\n",
    "import numpy as np\n",
    "\n",
    "x = np.array([1,2,3])\n",
    "y = np.array([4,5,6])\n",
    "z = np.array([7,8,9])\n",
    "\n",
    "np.concatenate([x,y,z])"
   ]
  },
  {
   "cell_type": "markdown",
   "id": "42c600a7-ad65-4698-b70b-8d83b95d74d9",
   "metadata": {},
   "source": [
    "### **Axis**\n",
    "\n",
    "* \"**Axis**\" in numpy is used to specify along which axis or dimension an operation should be performed on an array.\n",
    "* **0 == Line**\n",
    "* **1 == Column**"
   ]
  },
  {
   "cell_type": "code",
   "execution_count": 108,
   "id": "aa60bd00-2d0d-4bc2-968d-334e57b038c3",
   "metadata": {},
   "outputs": [
    {
     "data": {
      "text/plain": [
       "array([1, 2, 3, 4, 5, 6])"
      ]
     },
     "execution_count": 108,
     "metadata": {},
     "output_type": "execute_result"
    }
   ],
   "source": [
    "# This code concatenates arrays x and y along axis 0, resulting in a new array.\n",
    "np.concatenate([x,y], axis = 0)"
   ]
  },
  {
   "cell_type": "markdown",
   "id": "275dfbc2-b9be-4e07-a92a-fa1da6f50dd9",
   "metadata": {},
   "source": [
    "### **Splitting**\n",
    "* Numpy \"**Splitting**\" refers to dividing an array into multiple smaller arrays along a specified axis or indices.\n"
   ]
  },
  {
   "cell_type": "code",
   "execution_count": 49,
   "id": "43bd6f86-282c-4920-8e02-620a19e901e6",
   "metadata": {},
   "outputs": [
    {
     "data": {
      "text/plain": [
       "[array([1, 2, 3]), array([99, 99]), array([3, 2, 1])]"
      ]
     },
     "execution_count": 49,
     "metadata": {},
     "output_type": "execute_result"
    }
   ],
   "source": [
    "# One Dimensional Array\n",
    "# In the given code, a numpy array x is created,\n",
    "# and then it is split into three smaller arrays at the indices 3 and 5 using np.split(x, [3, 5]).\n",
    "\n",
    "import numpy as np\n",
    "x = np.array([1,2,3,99,99,3,2,1])\n",
    "np.split(x, [3,5])"
   ]
  },
  {
   "cell_type": "code",
   "execution_count": 111,
   "id": "ce09d95f-2fa6-4795-89eb-407d18f8e64b",
   "metadata": {},
   "outputs": [
    {
     "data": {
      "text/plain": [
       "[array([[ 0,  1],\n",
       "        [ 4,  5],\n",
       "        [ 8,  9],\n",
       "        [12, 13]]),\n",
       " array([[ 2,  3],\n",
       "        [ 6,  7],\n",
       "        [10, 11],\n",
       "        [14, 15]])]"
      ]
     },
     "execution_count": 111,
     "metadata": {},
     "output_type": "execute_result"
    }
   ],
   "source": [
    "# Two Dimensional Array\n",
    "\n",
    "import numpy as np\n",
    "m = np.arange(16).reshape(4,4)\n",
    "\n",
    "# Vertical horizontally\n",
    "np.vsplit(m, [2])\n",
    "\n",
    "# Dividing partition \n",
    "np.hsplit(m, [2])"
   ]
  },
  {
   "cell_type": "markdown",
   "id": "0366850d-bb24-45e9-b035-91d1e5f5d7a7",
   "metadata": {},
   "source": [
    "### **Sorting**\n",
    "* Numpy \"**Sorting**\" refers to arranging the elements of an array in ascending or descending order."
   ]
  },
  {
   "cell_type": "code",
   "execution_count": 60,
   "id": "086fbb0f-8973-40e6-9781-5c92eab874e4",
   "metadata": {},
   "outputs": [
    {
     "data": {
      "text/plain": [
       "array([1, 2, 3, 4, 5])"
      ]
     },
     "execution_count": 60,
     "metadata": {},
     "output_type": "execute_result"
    }
   ],
   "source": [
    "# In the given code, a numpy array v is created with elements [2, 1, 4, 3, 5],\n",
    "# and then it is sorted in ascending order using np.sort(v).\n",
    "\n",
    "import numpy as np \n",
    "v = np.array([2,1,4,3,5])\n",
    "np.sort(v)"
   ]
  },
  {
   "cell_type": "markdown",
   "id": "77fe7518-ad8f-46ac-923b-2fa394e614ab",
   "metadata": {},
   "source": [
    "### **Accessing elements with an index**"
   ]
  },
  {
   "cell_type": "code",
   "execution_count": 74,
   "id": "f690d9e3-0dc5-4ae6-8fcc-621d9b9577cf",
   "metadata": {},
   "outputs": [
    {
     "data": {
      "text/plain": [
       "99"
      ]
     },
     "execution_count": 74,
     "metadata": {},
     "output_type": "execute_result"
    }
   ],
   "source": [
    "import numpy as np \n",
    "m = np.random.randint(10, size = (3,5))\n",
    "m[0,0]=99\n",
    "m[0,0]"
   ]
  },
  {
   "cell_type": "markdown",
   "id": "5f2d3441-4dd1-4355-801d-03622fe5693e",
   "metadata": {},
   "source": [
    "### **Slicing**\n",
    "\n",
    "* \"**Slicing**\" in numpy refers to extracting a portion of an array using specified ranges of indices."
   ]
  },
  {
   "cell_type": "code",
   "execution_count": 82,
   "id": "836a9e6e-35f7-4f73-a3b5-6149f48372d6",
   "metadata": {},
   "outputs": [
    {
     "data": {
      "text/plain": [
       "array([20, 23, 26, 29])"
      ]
     },
     "execution_count": 82,
     "metadata": {},
     "output_type": "execute_result"
    }
   ],
   "source": [
    "import numpy as np \n",
    "a = np.arange(20,30)\n",
    "\n",
    "a[0:3]\n",
    "a[:3]\n",
    "a[3:]\n",
    "a[0::3]"
   ]
  },
  {
   "cell_type": "markdown",
   "id": "4eb219f2-e1d3-44fc-93db-9d8787ba5924",
   "metadata": {},
   "source": [
    "### **Copy**\n",
    "\n",
    "* NumPy \"**Copy**\" is used to create a deep copy of an array in numpy."
   ]
  },
  {
   "cell_type": "code",
   "execution_count": 109,
   "id": "95a21356-ed27-4016-9c25-14158cc6a86f",
   "metadata": {},
   "outputs": [
    {
     "data": {
      "text/plain": [
       "array([[2, 1, 8, 6, 6],\n",
       "       [0, 0, 5, 2, 3],\n",
       "       [0, 3, 0, 5, 3],\n",
       "       [4, 6, 3, 3, 7],\n",
       "       [5, 3, 2, 0, 4]])"
      ]
     },
     "execution_count": 109,
     "metadata": {},
     "output_type": "execute_result"
    }
   ],
   "source": [
    "# In the given code, a new numpy array altB is created by making a deep copy of a subarray of \n",
    "# m that includes rows 0 to 2 (exclusive) and columns 0 to 1 (exclusive).\n",
    "\n",
    "import numpy as np\n",
    "m = np.random.randint(10, size = (5,5))\n",
    "m"
   ]
  },
  {
   "cell_type": "markdown",
   "id": "6f98cd70-b453-4bf6-a7e9-61dd94e804ec",
   "metadata": {},
   "source": [
    "### **Fancy Index** \n",
    "* \"**Fancy Indexing**\" refers to indexing an array using arrays of indices or boolean masks to access or modify specific elements."
   ]
  },
  {
   "cell_type": "code",
   "execution_count": 88,
   "id": "3f60ffde-52a9-4e1b-b65c-3eb00c7fdd1e",
   "metadata": {},
   "outputs": [
    {
     "data": {
      "text/plain": [
       "array([ 3,  9, 15])"
      ]
     },
     "execution_count": 88,
     "metadata": {},
     "output_type": "execute_result"
    }
   ],
   "source": [
    "# In the given code, a numpy array v is created with numbers from 0 to 27 (exclusive) with a step of 3,\n",
    "# and then specific elements are selected from v using a list of indices [1, 3, 5] as v[bring].\n",
    "\n",
    "import numpy as np \n",
    "\n",
    "v = np.arange(0,30,3)\n",
    "bring = [1,3,5]\n",
    "v[bring]"
   ]
  },
  {
   "cell_type": "markdown",
   "id": "9437bf8f-a173-4f3d-9d31-7f1d4ec436f0",
   "metadata": {},
   "source": [
    "### **Ufunc**\n",
    "\n",
    "* Numpy \"**Ufunc**\" (universal function) refers to a function that operates element-wise on arrays, supporting broadcasting and enabling efficient numerical computations."
   ]
  },
  {
   "cell_type": "code",
   "execution_count": 97,
   "id": "0fc698fd-8e47-4e98-8946-b8e1cee5c557",
   "metadata": {},
   "outputs": [
    {
     "data": {
      "text/plain": [
       "array([  1,   8,  27,  64, 125], dtype=int32)"
      ]
     },
     "execution_count": 97,
     "metadata": {},
     "output_type": "execute_result"
    }
   ],
   "source": [
    "import numpy as np \n",
    "x = np.array([1,2,3,4,5])\n",
    "\n",
    "# -1\n",
    "np.subtract(x,1)\n",
    "\n",
    "# +1\n",
    "np.add(x,1)\n",
    "\n",
    "# *5\n",
    "np.multiply(x,5)\n",
    "\n",
    "# /2\n",
    "np.divide(x,2)\n",
    "\n",
    "# x**3\n",
    "np.power(x,3)\n",
    "\n"
   ]
  },
  {
   "cell_type": "markdown",
   "id": "157dacb0-90bc-4584-b087-f5d8c15f7cc3",
   "metadata": {},
   "source": [
    "### **Solving Two Unknown Equations with NumPy**"
   ]
  },
  {
   "cell_type": "markdown",
   "id": "06d31837-d85c-4171-889e-b07fa2777c36",
   "metadata": {},
   "source": [
    "5 * x0 + x1 = 12 \n",
    "\n",
    "x0 + 3 * x1 = 10 "
   ]
  },
  {
   "cell_type": "code",
   "execution_count": 100,
   "id": "45252a77-413a-438b-9803-65386697f12b",
   "metadata": {},
   "outputs": [
    {
     "data": {
      "text/plain": [
       "array([1.85714286, 2.71428571])"
      ]
     },
     "execution_count": 100,
     "metadata": {},
     "output_type": "execute_result"
    }
   ],
   "source": [
    "import numpy as np \n",
    "\n",
    "a = np.array([[5,1] , [1,3]])\n",
    "b = np.array([12 , 10])\n",
    "\n",
    "x = np.linalg.solve(a,b)\n",
    "x"
   ]
  }
 ],
 "metadata": {
  "kernelspec": {
   "display_name": "Python 3 (ipykernel)",
   "language": "python",
   "name": "python3"
  },
  "language_info": {
   "codemirror_mode": {
    "name": "ipython",
    "version": 3
   },
   "file_extension": ".py",
   "mimetype": "text/x-python",
   "name": "python",
   "nbconvert_exporter": "python",
   "pygments_lexer": "ipython3",
   "version": "3.10.9"
  }
 },
 "nbformat": 4,
 "nbformat_minor": 5
}
